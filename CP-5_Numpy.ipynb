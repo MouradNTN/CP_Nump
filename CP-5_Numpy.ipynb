{
 "cells": [
  {
   "cell_type": "code",
   "execution_count": 1,
   "id": "9d72c314",
   "metadata": {},
   "outputs": [
    {
     "name": "stdout",
     "output_type": "stream",
     "text": [
      "[1 2 3 4 5 6]\n",
      "[1, 2, 3, 4, 5, 6]\n",
      "3\n"
     ]
    }
   ],
   "source": [
    "#Q1\n",
    "import numpy as np\n",
    "a=np.array([1,2,3,4,5,6])\n",
    "print(a)\n",
    "lista=a.tolist()\n",
    "print(lista)\n",
    "print(lista[2])"
   ]
  },
  {
   "cell_type": "code",
   "execution_count": 2,
   "id": "aa6e2caf",
   "metadata": {},
   "outputs": [
    {
     "name": "stdout",
     "output_type": "stream",
     "text": [
      "[0.0, 0.0, 0.0, 0.0, 0.0, 0.0, 0.0, 0.0, 0.0]\n",
      "donner une valeur , 1\n",
      "donner une valeur , 2\n",
      "donner une valeur , 3\n",
      "donner une valeur , 4\n",
      "donner une valeur , 5\n",
      "donner une valeur , 6\n",
      "donner une valeur , 7\n",
      "donner une valeur , 8\n",
      "donner une valeur , 9\n",
      "[[1 2 3]\n",
      " [4 5 6]\n",
      " [7 8 9]]\n",
      "la somme des éléments diagonaux est  : 15\n"
     ]
    }
   ],
   "source": [
    "#Q2\n",
    "import numpy as np\n",
    "a=np.zeros(9)\n",
    "a=a.tolist()\n",
    "print(a)\n",
    "for i in range(9):\n",
    "    x=int(input('donner une valeur , '))\n",
    "    a[i]=x\n",
    "    #print(a)\n",
    "a=np.array(a)\n",
    "a=a.reshape(3,3)\n",
    "print(a)\n",
    "n=a.shape\n",
    "s=0\n",
    "for i in range(3):\n",
    "    s=s+a[i,i]\n",
    "print('la somme des éléments diagonaux est  :',s)\n",
    "\n"
   ]
  },
  {
   "cell_type": "code",
   "execution_count": 4,
   "id": "12c63554",
   "metadata": {},
   "outputs": [
    {
     "name": "stdout",
     "output_type": "stream",
     "text": [
      "donner le nombre total des éléments du tableau  :16\n",
      "[0.0, 0.0, 0.0, 0.0, 0.0, 0.0, 0.0, 0.0, 0.0, 0.0, 0.0, 0.0, 0.0, 0.0, 0.0, 0.0]\n",
      "donner une valeur , 1\n",
      "donner une valeur , 2\n",
      "donner une valeur , 3\n",
      "donner une valeur , 4\n",
      "donner une valeur , 5\n",
      "donner une valeur , 6\n",
      "donner une valeur , 7\n",
      "donner une valeur , 8\n",
      "donner une valeur , 9\n",
      "donner une valeur , 10\n",
      "donner une valeur , 11\n",
      "donner une valeur , 12\n",
      "donner une valeur , 13\n",
      "donner une valeur , 14\n",
      "donner une valeur , 15\n",
      "donner une valeur , 16\n",
      "4.0\n",
      "____-----____\n",
      "---_____---__-_____-_-_-_-_-_-_\n",
      "[[ 1  2  3  4]\n",
      " [ 5  6  7  8]\n",
      " [ 9 10 11 12]\n",
      " [13 14 15 16]]\n",
      "la somme des éléments diagonaux est  : 34\n",
      "---___---En utilisant TRACE---___---\n",
      "34\n"
     ]
    }
   ],
   "source": [
    "#Q2__2\n",
    "import numpy as np\n",
    "from math import sqrt\n",
    "l=int(input('donner le nombre total des éléments du tableau  :'))\n",
    "a=np.zeros(l)\n",
    "a=a.tolist()\n",
    "print(a)\n",
    "for i in range(l):\n",
    "    x=int(input('donner une valeur , '))\n",
    "    a[i]=x\n",
    "    #print(a)\n",
    "a=np.array(a)\n",
    "c_l=sqrt(l)\n",
    "print(c_l)\n",
    "print('____-----____')\n",
    "c_l=int(c_l)\n",
    "print('---_____---__-_____-_-_-_-_-_-_')\n",
    "a=a.reshape(c_l,c_l)\n",
    "print(a)\n",
    "n=a.shape\n",
    "s=0\n",
    "for i in range(c_l):\n",
    "    s=s+a[i,i]\n",
    "print('la somme des éléments diagonaux est  :',s)\n",
    "print('---___---En utilisant TRACE---___---')\n",
    "s2=a.trace()\n",
    "print(s2)\n",
    "\n"
   ]
  },
  {
   "cell_type": "code",
   "execution_count": 8,
   "id": "84145149",
   "metadata": {},
   "outputs": [
    {
     "name": "stdout",
     "output_type": "stream",
     "text": [
      "donner le nombre total des éléments du tableau  :9\n",
      "[0.0, 0.0, 0.0, 0.0, 0.0, 0.0, 0.0, 0.0, 0.0]\n",
      "donner une valeur , 1\n",
      "donner une valeur , 2\n",
      "donner une valeur , 3\n",
      "donner une valeur , 4\n",
      "donner une valeur , 5\n",
      "donner une valeur , 6\n",
      "donner une valeur , 7\n",
      "donner une valeur , 8\n",
      "donner une valeur , 9\n",
      "donner le nombre de colones que vous voulez  : 3\n",
      "---_____---__-_____-_-_-_-_-_-_\n",
      "[[1 2 3]\n",
      " [4 5 6]\n",
      " [7 8 9]]\n",
      "donner la valeur limite   :  5\n",
      "[6, 7, 8, 9]\n",
      "methode_2-----______---------\n",
      "[array([6, 7, 8, 9])]\n"
     ]
    },
    {
     "data": {
      "text/plain": [
       "list"
      ]
     },
     "execution_count": 8,
     "metadata": {},
     "output_type": "execute_result"
    }
   ],
   "source": [
    "#Q3\n",
    "import numpy as np\n",
    "from math import sqrt\n",
    "l=int(input('donner le nombre total des éléments du tableau  :'))\n",
    "a=np.zeros(l)\n",
    "a=a.tolist()\n",
    "print(a)\n",
    "for i in range(l):\n",
    "    x=int(input('donner une valeur , '))\n",
    "    a[i]=x\n",
    "    #print(a)\n",
    "a=np.array(a)\n",
    "nbr_col=int(input('donner le nombre de colones que vous voulez  : '))\n",
    "nbr_ligne=int(l/nbr_col)\n",
    "\n",
    "\n",
    "#c_l=sqrt(l)\n",
    "#print(c_l)\n",
    "#print('____-----____')\n",
    "#c_l=int(c_l)\n",
    "print('---_____---__-_____-_-_-_-_-_-_')\n",
    "a=a.reshape(nbr_ligne,nbr_col)\n",
    "print(a)\n",
    "list_val=list()\n",
    "X=int(input('donner la valeur limite   :  '))\n",
    "for i in range(nbr_ligne):\n",
    "    for j in range(nbr_col):\n",
    "        if a[i,j]>X:\n",
    "            list_val.append(a[i,j])\n",
    "print(list_val)\n",
    "print('methode_2-----______---------')\n",
    "list_val2=list()\n",
    "list_val2.append(a[a>X])\n",
    "print(list_val2)\n",
    "type(list_val2)\n",
    "\n"
   ]
  },
  {
   "cell_type": "code",
   "execution_count": 13,
   "id": "5f7395a4",
   "metadata": {},
   "outputs": [
    {
     "name": "stdout",
     "output_type": "stream",
     "text": [
      "donner le nombre total des éléments du tableau  :9\n",
      "-----------------INITIA_TAB\n",
      "donner une valeur pourle PREMIER tab , 1\n",
      "donner une valeur pourle DEUXIEME tab , 2\n",
      "donner une valeur pourle PREMIER tab , 3\n",
      "donner une valeur pourle DEUXIEME tab , 4\n",
      "donner une valeur pourle PREMIER tab , 5\n",
      "donner une valeur pourle DEUXIEME tab , 6\n",
      "donner une valeur pourle PREMIER tab , 7\n",
      "donner une valeur pourle DEUXIEME tab , 8\n",
      "donner une valeur pourle PREMIER tab , 9\n",
      "donner une valeur pourle DEUXIEME tab , 10\n",
      "donner une valeur pourle PREMIER tab , 11\n",
      "donner une valeur pourle DEUXIEME tab , 12\n",
      "donner une valeur pourle PREMIER tab , 13\n",
      "donner une valeur pourle DEUXIEME tab , 14\n",
      "donner une valeur pourle PREMIER tab , 15\n",
      "donner une valeur pourle DEUXIEME tab , 16\n",
      "donner une valeur pourle PREMIER tab , 17\n",
      "donner une valeur pourle DEUXIEME tab , 18\n",
      "donner le nombre de colones que vous voulez  : 3\n",
      "---_____---__-_____-_-_-_-_-_-_\n",
      "[[ 1  3  5]\n",
      " [ 7  9 11]\n",
      " [13 15 17]]\n",
      "[[ 2  4  6]\n",
      " [ 8 10 12]\n",
      " [14 16 18]]\n",
      "[[0. 0. 0.]\n",
      " [0. 0. 0.]\n",
      " [0. 0. 0.]]\n",
      "-_-_-_-_-_-_-_-_--_-_-_-\n",
      "Tableau a  :\n",
      " [[ 1  3  5]\n",
      " [ 7  9 11]\n",
      " [13 15 17]]\n",
      "tableau b   :\n",
      " [[ 2  4  6]\n",
      " [ 8 10 12]\n",
      " [14 16 18]]\n",
      "la somme des deux tableaux est    :\n",
      " [[ 3.  7. 11.]\n",
      " [15. 19. 23.]\n",
      " [27. 31. 35.]]\n"
     ]
    }
   ],
   "source": [
    "#Q4\n",
    "import numpy as np\n",
    "#from math import sqrt\n",
    "l=int(input('donner le nombre total des éléments du tableau  :'))\n",
    "a=np.zeros(l)\n",
    "b=np.zeros(l)\n",
    "c=np.zeros(l)\n",
    "a=a.tolist()\n",
    "b=b.tolist()\n",
    "#c=c.tolist()\n",
    "#print(a)\n",
    "#print(b)\n",
    "print('-----------------INITIA_TAB')\n",
    "for i in range(l):\n",
    "    x=int(input('donner une valeur pourle PREMIER tab , '))\n",
    "    y=int(input('donner une valeur pourle DEUXIEME tab , '))\n",
    "    a[i]=x\n",
    "    b[i]=y\n",
    "    #print(a)\n",
    "a=np.array(a)\n",
    "b=np.array(b)\n",
    "nbr_col=int(input('donner le nombre de colones que vous voulez  : '))\n",
    "nbr_ligne=int(l/nbr_col)\n",
    "print('---_____---__-_____-_-_-_-_-_-_')\n",
    "a=a.reshape(nbr_ligne,nbr_col)\n",
    "b=b.reshape(nbr_ligne,nbr_col)\n",
    "c=c.reshape(nbr_ligne,nbr_col)\n",
    "print(a)\n",
    "print(b)\n",
    "print(c)\n",
    "print('-_-_-_-_-_-_-_-_--_-_-_-')\n",
    "for i in range(nbr_ligne):\n",
    "    for j in range(nbr_col):\n",
    "        c[i,j]=a[i,j]+b[i,j]\n",
    "print('Tableau a  :\\n',a)\n",
    "print('tableau b   :\\n',b)\n",
    "print('la somme des deux tableaux est    :\\n',c)\n"
   ]
  },
  {
   "cell_type": "code",
   "execution_count": 14,
   "id": "417f9ae6",
   "metadata": {},
   "outputs": [
    {
     "name": "stdout",
     "output_type": "stream",
     "text": [
      "donner le nombre total des éléments du tableau  :9\n",
      "-----------------INITIA_TAB\n",
      "donner une valeur pourle PREMIER tab , 1\n",
      "donner une valeur pourle PREMIER tab , 2\n",
      "donner une valeur pourle PREMIER tab , 3\n",
      "donner une valeur pourle PREMIER tab , 4\n",
      "donner une valeur pourle PREMIER tab , 5\n",
      "donner une valeur pourle PREMIER tab , 6\n",
      "donner une valeur pourle PREMIER tab , 7\n",
      "donner une valeur pourle PREMIER tab , 8\n",
      "donner une valeur pourle PREMIER tab , 9\n",
      "donner le nombre de colones que vous voulez  : 3\n",
      "---_____---__-_____-_-_-_-_-_-_\n",
      "[[1 2 3]\n",
      " [4 5 6]\n",
      " [7 8 9]]\n",
      "-_-_-_-_-_-_-_-_--_-_-_-\n"
     ]
    },
    {
     "data": {
      "text/plain": [
       "array([2., 5., 8.])"
      ]
     },
     "execution_count": 14,
     "metadata": {},
     "output_type": "execute_result"
    }
   ],
   "source": [
    "#Q5\n",
    "import numpy as np\n",
    "l=int(input('donner le nombre total des éléments du tableau  :'))\n",
    "a=np.zeros(l)\n",
    "a=a.tolist()\n",
    "print('-----------------INITIA_TAB')\n",
    "for i in range(l):\n",
    "    x=int(input('donner une valeur pourle PREMIER tab , '))\n",
    "    a[i]=x\n",
    "a=np.array(a)\n",
    "nbr_col=int(input('donner le nombre de colones que vous voulez  : '))\n",
    "nbr_ligne=int(l/nbr_col)\n",
    "print('---_____---__-_____-_-_-_-_-_-_')\n",
    "a=a.reshape(nbr_ligne,nbr_col)\n",
    "print(a)\n",
    "print('-_-_-_-_-_-_-_-_--_-_-_-')\n",
    "np.mean(a,axis=1)"
   ]
  },
  {
   "cell_type": "code",
   "execution_count": null,
   "id": "8e2629c9",
   "metadata": {},
   "outputs": [],
   "source": []
  }
 ],
 "metadata": {
  "kernelspec": {
   "display_name": "Python 3 (ipykernel)",
   "language": "python",
   "name": "python3"
  },
  "language_info": {
   "codemirror_mode": {
    "name": "ipython",
    "version": 3
   },
   "file_extension": ".py",
   "mimetype": "text/x-python",
   "name": "python",
   "nbconvert_exporter": "python",
   "pygments_lexer": "ipython3",
   "version": "3.9.12"
  }
 },
 "nbformat": 4,
 "nbformat_minor": 5
}
